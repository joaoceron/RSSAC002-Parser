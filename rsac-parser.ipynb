{
 "cells": [
  {
   "cell_type": "markdown",
   "metadata": {},
   "source": [
    "## Parse results from RSSAC002 \n",
    "### https://github.com/rssac-caucus/RSSAC002-data/"
   ]
  },
  {
   "cell_type": "code",
   "execution_count": 576,
   "metadata": {},
   "outputs": [],
   "source": [
    "import sys\n",
    "from datetime import timedelta, datetime\n",
    "from datetime import datetime\n",
    "from dateutil.parser import parse\n",
    "import pandas as pd\n",
    "import cfscrape\n",
    "import re\n",
    "from bs4 import BeautifulSoup\n",
    "import yaml\n"
   ]
  },
  {
   "cell_type": "code",
   "execution_count": 577,
   "metadata": {},
   "outputs": [],
   "source": [
    "def find_urls(initial_date,final_date):\n",
    "    curr_day = initial_date\n",
    "    array_urls = []\n",
    "    while (curr_day <= final_date):\n",
    "        print (curr_day)\n",
    "        curr_day = curr_day + timedelta(days=1)  \n",
    "        url =\"https://github.com/rssac-caucus/RSSAC002-data/tree/master/{}/{:02d}/traffic-volume\".format(curr_day.year,curr_day.month)\n",
    "        array_urls.append(url)\n",
    "    return (array_urls)"
   ]
  },
  {
   "cell_type": "code",
   "execution_count": 578,
   "metadata": {},
   "outputs": [],
   "source": [
    "def get_content_url(df):\n",
    "    \n",
    "    result = []\n",
    "    for url in df.url.unique():\n",
    "        print (url)\n",
    "        scraper = cfscrape.create_scraper()\n",
    "        scraped_html=scraper.get(url).content\n",
    "        soup = BeautifulSoup(scraped_html, 'lxml')\n",
    "        \n",
    "\n",
    "        # find all links on the URL\n",
    "        for link in soup.find_all('a', href=True, title=True):\n",
    "            title = (link.get('title'))\n",
    "            if (re.search(r\".*root.*yaml\",title)) is not None:\n",
    "                \n",
    "                full_path = \"{}/{}\".format(url,title)\n",
    "                \n",
    "                raw_prefix = \"https://raw.githubusercontent.com/rssac-caucus/RSSAC002-data/master\"\n",
    "                suffix = \"/\".join(full_path.split(\"/\")[7:])\n",
    "                raw_url = \"{}/{}\".format(raw_prefix,suffix)\n",
    "\n",
    "                filename = full_path.split(\"/\")[-1]\n",
    "                matched =  re.search(r'([a-z])-root-(\\d{8})-', filename)\n",
    "                root = matched.group(1)\n",
    "                date = matched.group(2)\n",
    "\n",
    "                temp = dict(\n",
    "                    root = root,\n",
    "                    date = date,\n",
    "                    url = raw_url\n",
    "                )\n",
    "                result.append(temp)\n",
    "    return (result)"
   ]
  },
  {
   "cell_type": "code",
   "execution_count": 579,
   "metadata": {},
   "outputs": [],
   "source": [
    "str = \"https://github.com/rssac-caucus/RSSAC002-data/tree/master/2019/01/traffic-volume/m-root-20190119-traffic-volume.yaml\""
   ]
  },
  {
   "cell_type": "code",
   "execution_count": 580,
   "metadata": {},
   "outputs": [
    {
     "name": "stdout",
     "output_type": "stream",
     "text": [
      "https://raw.githubusercontent.com/rssac-caucus/RSSAC002-data/master/2019/01/traffic-volume/m-root-20190119-traffic-volume.yaml\n"
     ]
    }
   ],
   "source": [
    "raw_prefix = \"https://raw.githubusercontent.com/rssac-caucus/RSSAC002-data/master\"\n",
    "suffix = \"/\".join(str.split(\"/\")[7:])\n",
    "print (\"{}/{}\".format(raw_prefix,suffix))"
   ]
  },
  {
   "cell_type": "markdown",
   "metadata": {},
   "source": [
    "# MAIN"
   ]
  },
  {
   "cell_type": "code",
   "execution_count": 583,
   "metadata": {},
   "outputs": [
    {
     "name": "stdout",
     "output_type": "stream",
     "text": [
      "2019-01-09 00:00:00\n",
      "2019-01-10 00:00:00\n",
      "2019-01-11 00:00:00\n",
      "2019-01-12 00:00:00\n",
      "2019-01-13 00:00:00\n",
      "2019-01-14 00:00:00\n",
      "2019-01-15 00:00:00\n",
      "2019-01-16 00:00:00\n",
      "https://github.com/rssac-caucus/RSSAC002-data/tree/master/2019/01/traffic-volume\n"
     ]
    },
    {
     "data": {
      "text/html": [
       "<div>\n",
       "<style scoped>\n",
       "    .dataframe tbody tr th:only-of-type {\n",
       "        vertical-align: middle;\n",
       "    }\n",
       "\n",
       "    .dataframe tbody tr th {\n",
       "        vertical-align: top;\n",
       "    }\n",
       "\n",
       "    .dataframe thead th {\n",
       "        text-align: right;\n",
       "    }\n",
       "</style>\n",
       "<table border=\"1\" class=\"dataframe\">\n",
       "  <thead>\n",
       "    <tr style=\"text-align: right;\">\n",
       "      <th></th>\n",
       "      <th>root</th>\n",
       "      <th>date</th>\n",
       "      <th>url</th>\n",
       "    </tr>\n",
       "  </thead>\n",
       "  <tbody>\n",
       "    <tr>\n",
       "      <th>8</th>\n",
       "      <td>a</td>\n",
       "      <td>2019-01-09</td>\n",
       "      <td>https://raw.githubusercontent.com/rssac-caucus...</td>\n",
       "    </tr>\n",
       "    <tr>\n",
       "      <th>9</th>\n",
       "      <td>a</td>\n",
       "      <td>2019-01-10</td>\n",
       "      <td>https://raw.githubusercontent.com/rssac-caucus...</td>\n",
       "    </tr>\n",
       "    <tr>\n",
       "      <th>10</th>\n",
       "      <td>a</td>\n",
       "      <td>2019-01-11</td>\n",
       "      <td>https://raw.githubusercontent.com/rssac-caucus...</td>\n",
       "    </tr>\n",
       "    <tr>\n",
       "      <th>11</th>\n",
       "      <td>a</td>\n",
       "      <td>2019-01-12</td>\n",
       "      <td>https://raw.githubusercontent.com/rssac-caucus...</td>\n",
       "    </tr>\n",
       "    <tr>\n",
       "      <th>12</th>\n",
       "      <td>a</td>\n",
       "      <td>2019-01-13</td>\n",
       "      <td>https://raw.githubusercontent.com/rssac-caucus...</td>\n",
       "    </tr>\n",
       "  </tbody>\n",
       "</table>\n",
       "</div>"
      ],
      "text/plain": [
       "   root       date                                                url\n",
       "8     a 2019-01-09  https://raw.githubusercontent.com/rssac-caucus...\n",
       "9     a 2019-01-10  https://raw.githubusercontent.com/rssac-caucus...\n",
       "10    a 2019-01-11  https://raw.githubusercontent.com/rssac-caucus...\n",
       "11    a 2019-01-12  https://raw.githubusercontent.com/rssac-caucus...\n",
       "12    a 2019-01-13  https://raw.githubusercontent.com/rssac-caucus..."
      ]
     },
     "execution_count": 583,
     "metadata": {},
     "output_type": "execute_result"
    }
   ],
   "source": [
    "initial = \"2019-01-09\"\n",
    "final   = \"2019-01-16\"\n",
    "\n",
    "# convert to time structured\n",
    "initial_date = datetime.strptime(initial, '%Y-%m-%d')\n",
    "final_date = datetime.strptime(final, '%Y-%m-%d')\n",
    "\n",
    "array_urls = find_urls(initial_date,final_date)\n",
    "df_url = pd.DataFrame(array_urls, columns=['url'])\n",
    "result = get_content_url(df_url)\n",
    "# print (result)\n",
    "df = pd.DataFrame(result)\n",
    "df[\"date\"] = pd.to_datetime( df.date, format=\"%Y/%m/%d\")\n",
    "df.head()\n",
    "# filter time window\n",
    "df = df[(df['date'] >= initial) & (df['date'] <= final)]\n",
    "df.head()"
   ]
  },
  {
   "cell_type": "code",
   "execution_count": 584,
   "metadata": {},
   "outputs": [
    {
     "name": "stdout",
     "output_type": "stream",
     "text": [
      "We found stats for 12 root-letters\n",
      "time windows: 2019-01-09 00:00:00 - 2019-01-16 00:00:00 \n",
      "We found 8 days with measurements for all nodes\n"
     ]
    }
   ],
   "source": [
    "total_of_root_server =  len(df.root.unique())\n",
    "print (\"We found stats for {} root-letters\".format(total_of_root_server))\n",
    "print (\"time windows: {} - {} \".format(df.date.min(),df.date.max()))\n",
    "\n",
    "temp_df = df.groupby(['date'])['root'].count().reset_index()\n",
    "days_with_measurements_for_all_roots = temp_df[temp_df.root>=total_of_root_server]['date'].to_list()\n",
    "\n",
    "# filter day list\n",
    "df = df[df.date.isin(days_with_measurements_for_all_roots)]\n",
    "print (\"We found {} days with measurements for all nodes\".format(len(df.date.unique())))"
   ]
  },
  {
   "cell_type": "code",
   "execution_count": 585,
   "metadata": {},
   "outputs": [],
   "source": [
    "# get raw data content\n",
    "def get_stats(url):\n",
    "    scraper = cfscrape.create_scraper()\n",
    "    scraped_html=scraper.get(url).content\n",
    "    scraped_html\n",
    "    soup = BeautifulSoup(scraped_html, 'lxml')\n",
    "    values = soup.find_all(\"p\")[0]\n",
    "    values = values.renderContents()\n",
    "    return (pd.pandas.json_normalize(yaml.load(values)))"
   ]
  },
  {
   "cell_type": "code",
   "execution_count": 595,
   "metadata": {
    "scrolled": true
   },
   "outputs": [
    {
     "name": "stdout",
     "output_type": "stream",
     "text": [
      "https://raw.githubusercontent.com/rssac-caucus/RSSAC002-data/master/2019/01/traffic-volume/a-root-20190109-traffic-volume.yaml\n",
      "https://raw.githubusercontent.com/rssac-caucus/RSSAC002-data/master/2019/01/traffic-volume/a-root-20190110-traffic-volume.yaml\n",
      "https://raw.githubusercontent.com/rssac-caucus/RSSAC002-data/master/2019/01/traffic-volume/a-root-20190111-traffic-volume.yaml\n",
      "https://raw.githubusercontent.com/rssac-caucus/RSSAC002-data/master/2019/01/traffic-volume/a-root-20190112-traffic-volume.yaml\n",
      "https://raw.githubusercontent.com/rssac-caucus/RSSAC002-data/master/2019/01/traffic-volume/a-root-20190113-traffic-volume.yaml\n",
      "https://raw.githubusercontent.com/rssac-caucus/RSSAC002-data/master/2019/01/traffic-volume/a-root-20190114-traffic-volume.yaml\n",
      "https://raw.githubusercontent.com/rssac-caucus/RSSAC002-data/master/2019/01/traffic-volume/a-root-20190115-traffic-volume.yaml\n",
      "https://raw.githubusercontent.com/rssac-caucus/RSSAC002-data/master/2019/01/traffic-volume/a-root-20190116-traffic-volume.yaml\n",
      "https://raw.githubusercontent.com/rssac-caucus/RSSAC002-data/master/2019/01/traffic-volume/b-root-20190109-traffic-volume.yaml\n",
      "https://raw.githubusercontent.com/rssac-caucus/RSSAC002-data/master/2019/01/traffic-volume/b-root-20190110-traffic-volume.yaml\n",
      "https://raw.githubusercontent.com/rssac-caucus/RSSAC002-data/master/2019/01/traffic-volume/b-root-20190111-traffic-volume.yaml\n",
      "https://raw.githubusercontent.com/rssac-caucus/RSSAC002-data/master/2019/01/traffic-volume/b-root-20190112-traffic-volume.yaml\n",
      "https://raw.githubusercontent.com/rssac-caucus/RSSAC002-data/master/2019/01/traffic-volume/b-root-20190113-traffic-volume.yaml\n",
      "https://raw.githubusercontent.com/rssac-caucus/RSSAC002-data/master/2019/01/traffic-volume/b-root-20190114-traffic-volume.yaml\n",
      "https://raw.githubusercontent.com/rssac-caucus/RSSAC002-data/master/2019/01/traffic-volume/b-root-20190115-traffic-volume.yaml\n",
      "https://raw.githubusercontent.com/rssac-caucus/RSSAC002-data/master/2019/01/traffic-volume/b-root-20190116-traffic-volume.yaml\n",
      "https://raw.githubusercontent.com/rssac-caucus/RSSAC002-data/master/2019/01/traffic-volume/c-root-20190109-traffic-volume.yaml\n",
      "https://raw.githubusercontent.com/rssac-caucus/RSSAC002-data/master/2019/01/traffic-volume/c-root-20190110-traffic-volume.yaml\n",
      "https://raw.githubusercontent.com/rssac-caucus/RSSAC002-data/master/2019/01/traffic-volume/c-root-20190111-traffic-volume.yaml\n",
      "https://raw.githubusercontent.com/rssac-caucus/RSSAC002-data/master/2019/01/traffic-volume/c-root-20190112-traffic-volume.yaml\n",
      "https://raw.githubusercontent.com/rssac-caucus/RSSAC002-data/master/2019/01/traffic-volume/c-root-20190113-traffic-volume.yaml\n",
      "https://raw.githubusercontent.com/rssac-caucus/RSSAC002-data/master/2019/01/traffic-volume/c-root-20190114-traffic-volume.yaml\n",
      "https://raw.githubusercontent.com/rssac-caucus/RSSAC002-data/master/2019/01/traffic-volume/c-root-20190115-traffic-volume.yaml\n",
      "https://raw.githubusercontent.com/rssac-caucus/RSSAC002-data/master/2019/01/traffic-volume/c-root-20190116-traffic-volume.yaml\n",
      "https://raw.githubusercontent.com/rssac-caucus/RSSAC002-data/master/2019/01/traffic-volume/d-root-20190109-traffic-volume.yaml\n",
      "https://raw.githubusercontent.com/rssac-caucus/RSSAC002-data/master/2019/01/traffic-volume/d-root-20190110-traffic-volume.yaml\n",
      "https://raw.githubusercontent.com/rssac-caucus/RSSAC002-data/master/2019/01/traffic-volume/d-root-20190111-traffic-volume.yaml\n",
      "https://raw.githubusercontent.com/rssac-caucus/RSSAC002-data/master/2019/01/traffic-volume/d-root-20190112-traffic-volume.yaml\n",
      "https://raw.githubusercontent.com/rssac-caucus/RSSAC002-data/master/2019/01/traffic-volume/d-root-20190113-traffic-volume.yaml\n",
      "https://raw.githubusercontent.com/rssac-caucus/RSSAC002-data/master/2019/01/traffic-volume/d-root-20190114-traffic-volume.yaml\n",
      "https://raw.githubusercontent.com/rssac-caucus/RSSAC002-data/master/2019/01/traffic-volume/d-root-20190115-traffic-volume.yaml\n",
      "https://raw.githubusercontent.com/rssac-caucus/RSSAC002-data/master/2019/01/traffic-volume/d-root-20190116-traffic-volume.yaml\n",
      "https://raw.githubusercontent.com/rssac-caucus/RSSAC002-data/master/2019/01/traffic-volume/e-root-20190109-traffic-volume.yaml\n",
      "https://raw.githubusercontent.com/rssac-caucus/RSSAC002-data/master/2019/01/traffic-volume/e-root-20190110-traffic-volume.yaml\n",
      "https://raw.githubusercontent.com/rssac-caucus/RSSAC002-data/master/2019/01/traffic-volume/e-root-20190111-traffic-volume.yaml\n",
      "https://raw.githubusercontent.com/rssac-caucus/RSSAC002-data/master/2019/01/traffic-volume/e-root-20190112-traffic-volume.yaml\n",
      "https://raw.githubusercontent.com/rssac-caucus/RSSAC002-data/master/2019/01/traffic-volume/e-root-20190113-traffic-volume.yaml\n",
      "https://raw.githubusercontent.com/rssac-caucus/RSSAC002-data/master/2019/01/traffic-volume/e-root-20190114-traffic-volume.yaml\n",
      "https://raw.githubusercontent.com/rssac-caucus/RSSAC002-data/master/2019/01/traffic-volume/e-root-20190115-traffic-volume.yaml\n",
      "https://raw.githubusercontent.com/rssac-caucus/RSSAC002-data/master/2019/01/traffic-volume/e-root-20190116-traffic-volume.yaml\n",
      "https://raw.githubusercontent.com/rssac-caucus/RSSAC002-data/master/2019/01/traffic-volume/f-root-20190109-traffic-volume.yaml\n",
      "https://raw.githubusercontent.com/rssac-caucus/RSSAC002-data/master/2019/01/traffic-volume/f-root-20190110-traffic-volume.yaml\n",
      "https://raw.githubusercontent.com/rssac-caucus/RSSAC002-data/master/2019/01/traffic-volume/f-root-20190111-traffic-volume.yaml\n",
      "https://raw.githubusercontent.com/rssac-caucus/RSSAC002-data/master/2019/01/traffic-volume/f-root-20190112-traffic-volume.yaml\n",
      "https://raw.githubusercontent.com/rssac-caucus/RSSAC002-data/master/2019/01/traffic-volume/f-root-20190113-traffic-volume.yaml\n",
      "https://raw.githubusercontent.com/rssac-caucus/RSSAC002-data/master/2019/01/traffic-volume/f-root-20190114-traffic-volume.yaml\n",
      "https://raw.githubusercontent.com/rssac-caucus/RSSAC002-data/master/2019/01/traffic-volume/f-root-20190115-traffic-volume.yaml\n",
      "https://raw.githubusercontent.com/rssac-caucus/RSSAC002-data/master/2019/01/traffic-volume/f-root-20190116-traffic-volume.yaml\n",
      "https://raw.githubusercontent.com/rssac-caucus/RSSAC002-data/master/2019/01/traffic-volume/h-root-20190109-traffic-volume.yaml\n",
      "https://raw.githubusercontent.com/rssac-caucus/RSSAC002-data/master/2019/01/traffic-volume/h-root-20190110-traffic-volume.yaml\n",
      "https://raw.githubusercontent.com/rssac-caucus/RSSAC002-data/master/2019/01/traffic-volume/h-root-20190111-traffic-volume.yaml\n",
      "https://raw.githubusercontent.com/rssac-caucus/RSSAC002-data/master/2019/01/traffic-volume/h-root-20190112-traffic-volume.yaml\n",
      "https://raw.githubusercontent.com/rssac-caucus/RSSAC002-data/master/2019/01/traffic-volume/h-root-20190113-traffic-volume.yaml\n",
      "https://raw.githubusercontent.com/rssac-caucus/RSSAC002-data/master/2019/01/traffic-volume/h-root-20190114-traffic-volume.yaml\n",
      "https://raw.githubusercontent.com/rssac-caucus/RSSAC002-data/master/2019/01/traffic-volume/h-root-20190115-traffic-volume.yaml\n",
      "https://raw.githubusercontent.com/rssac-caucus/RSSAC002-data/master/2019/01/traffic-volume/h-root-20190116-traffic-volume.yaml\n",
      "https://raw.githubusercontent.com/rssac-caucus/RSSAC002-data/master/2019/01/traffic-volume/i-root-20190109-traffic-volume.yaml\n",
      "https://raw.githubusercontent.com/rssac-caucus/RSSAC002-data/master/2019/01/traffic-volume/i-root-20190110-traffic-volume.yaml\n",
      "https://raw.githubusercontent.com/rssac-caucus/RSSAC002-data/master/2019/01/traffic-volume/i-root-20190111-traffic-volume.yaml\n",
      "https://raw.githubusercontent.com/rssac-caucus/RSSAC002-data/master/2019/01/traffic-volume/i-root-20190112-traffic-volume.yaml\n",
      "https://raw.githubusercontent.com/rssac-caucus/RSSAC002-data/master/2019/01/traffic-volume/i-root-20190113-traffic-volume.yaml\n",
      "https://raw.githubusercontent.com/rssac-caucus/RSSAC002-data/master/2019/01/traffic-volume/i-root-20190114-traffic-volume.yaml\n",
      "https://raw.githubusercontent.com/rssac-caucus/RSSAC002-data/master/2019/01/traffic-volume/i-root-20190115-traffic-volume.yaml\n",
      "https://raw.githubusercontent.com/rssac-caucus/RSSAC002-data/master/2019/01/traffic-volume/i-root-20190116-traffic-volume.yaml\n",
      "https://raw.githubusercontent.com/rssac-caucus/RSSAC002-data/master/2019/01/traffic-volume/j-root-20190109-traffic-volume.yaml\n",
      "https://raw.githubusercontent.com/rssac-caucus/RSSAC002-data/master/2019/01/traffic-volume/j-root-20190110-traffic-volume.yaml\n"
     ]
    },
    {
     "name": "stdout",
     "output_type": "stream",
     "text": [
      "https://raw.githubusercontent.com/rssac-caucus/RSSAC002-data/master/2019/01/traffic-volume/j-root-20190111-traffic-volume.yaml\n",
      "https://raw.githubusercontent.com/rssac-caucus/RSSAC002-data/master/2019/01/traffic-volume/j-root-20190112-traffic-volume.yaml\n",
      "https://raw.githubusercontent.com/rssac-caucus/RSSAC002-data/master/2019/01/traffic-volume/j-root-20190113-traffic-volume.yaml\n",
      "https://raw.githubusercontent.com/rssac-caucus/RSSAC002-data/master/2019/01/traffic-volume/j-root-20190114-traffic-volume.yaml\n",
      "https://raw.githubusercontent.com/rssac-caucus/RSSAC002-data/master/2019/01/traffic-volume/j-root-20190115-traffic-volume.yaml\n",
      "https://raw.githubusercontent.com/rssac-caucus/RSSAC002-data/master/2019/01/traffic-volume/j-root-20190116-traffic-volume.yaml\n",
      "https://raw.githubusercontent.com/rssac-caucus/RSSAC002-data/master/2019/01/traffic-volume/k-root-20190109-traffic-volume.yaml\n",
      "https://raw.githubusercontent.com/rssac-caucus/RSSAC002-data/master/2019/01/traffic-volume/k-root-20190110-traffic-volume.yaml\n",
      "https://raw.githubusercontent.com/rssac-caucus/RSSAC002-data/master/2019/01/traffic-volume/k-root-20190111-traffic-volume.yaml\n",
      "https://raw.githubusercontent.com/rssac-caucus/RSSAC002-data/master/2019/01/traffic-volume/k-root-20190112-traffic-volume.yaml\n",
      "https://raw.githubusercontent.com/rssac-caucus/RSSAC002-data/master/2019/01/traffic-volume/k-root-20190113-traffic-volume.yaml\n",
      "https://raw.githubusercontent.com/rssac-caucus/RSSAC002-data/master/2019/01/traffic-volume/k-root-20190114-traffic-volume.yaml\n",
      "https://raw.githubusercontent.com/rssac-caucus/RSSAC002-data/master/2019/01/traffic-volume/k-root-20190115-traffic-volume.yaml\n",
      "https://raw.githubusercontent.com/rssac-caucus/RSSAC002-data/master/2019/01/traffic-volume/k-root-20190116-traffic-volume.yaml\n",
      "https://raw.githubusercontent.com/rssac-caucus/RSSAC002-data/master/2019/01/traffic-volume/l-root-20190109-traffic-volume.yaml\n",
      "https://raw.githubusercontent.com/rssac-caucus/RSSAC002-data/master/2019/01/traffic-volume/l-root-20190110-traffic-volume.yaml\n",
      "https://raw.githubusercontent.com/rssac-caucus/RSSAC002-data/master/2019/01/traffic-volume/l-root-20190111-traffic-volume.yaml\n",
      "https://raw.githubusercontent.com/rssac-caucus/RSSAC002-data/master/2019/01/traffic-volume/l-root-20190112-traffic-volume.yaml\n",
      "https://raw.githubusercontent.com/rssac-caucus/RSSAC002-data/master/2019/01/traffic-volume/l-root-20190113-traffic-volume.yaml\n",
      "https://raw.githubusercontent.com/rssac-caucus/RSSAC002-data/master/2019/01/traffic-volume/l-root-20190114-traffic-volume.yaml\n",
      "https://raw.githubusercontent.com/rssac-caucus/RSSAC002-data/master/2019/01/traffic-volume/l-root-20190115-traffic-volume.yaml\n",
      "https://raw.githubusercontent.com/rssac-caucus/RSSAC002-data/master/2019/01/traffic-volume/l-root-20190116-traffic-volume.yaml\n",
      "https://raw.githubusercontent.com/rssac-caucus/RSSAC002-data/master/2019/01/traffic-volume/m-root-20190109-traffic-volume.yaml\n",
      "https://raw.githubusercontent.com/rssac-caucus/RSSAC002-data/master/2019/01/traffic-volume/m-root-20190110-traffic-volume.yaml\n",
      "https://raw.githubusercontent.com/rssac-caucus/RSSAC002-data/master/2019/01/traffic-volume/m-root-20190111-traffic-volume.yaml\n",
      "https://raw.githubusercontent.com/rssac-caucus/RSSAC002-data/master/2019/01/traffic-volume/m-root-20190112-traffic-volume.yaml\n",
      "https://raw.githubusercontent.com/rssac-caucus/RSSAC002-data/master/2019/01/traffic-volume/m-root-20190113-traffic-volume.yaml\n",
      "https://raw.githubusercontent.com/rssac-caucus/RSSAC002-data/master/2019/01/traffic-volume/m-root-20190114-traffic-volume.yaml\n",
      "https://raw.githubusercontent.com/rssac-caucus/RSSAC002-data/master/2019/01/traffic-volume/m-root-20190115-traffic-volume.yaml\n",
      "https://raw.githubusercontent.com/rssac-caucus/RSSAC002-data/master/2019/01/traffic-volume/m-root-20190116-traffic-volume.yaml\n"
     ]
    }
   ],
   "source": [
    "df_result_all = pd.DataFrame()\n",
    "for url in df.url.unique():\n",
    "    print (url)\n",
    "    df_result = get_stats(url)\n",
    "    df_result_all = pd.concat([df_result_all, df_result])"
   ]
  },
  {
   "cell_type": "code",
   "execution_count": 596,
   "metadata": {},
   "outputs": [
    {
     "data": {
      "text/html": [
       "<div>\n",
       "<style scoped>\n",
       "    .dataframe tbody tr th:only-of-type {\n",
       "        vertical-align: middle;\n",
       "    }\n",
       "\n",
       "    .dataframe tbody tr th {\n",
       "        vertical-align: top;\n",
       "    }\n",
       "\n",
       "    .dataframe thead th {\n",
       "        text-align: right;\n",
       "    }\n",
       "</style>\n",
       "<table border=\"1\" class=\"dataframe\">\n",
       "  <thead>\n",
       "    <tr style=\"text-align: right;\">\n",
       "      <th></th>\n",
       "      <th>service</th>\n",
       "      <th>start-period</th>\n",
       "      <th>metric</th>\n",
       "      <th>dns-udp-queries-received-ipv4</th>\n",
       "      <th>dns-udp-queries-received-ipv6</th>\n",
       "      <th>dns-tcp-queries-received-ipv4</th>\n",
       "      <th>dns-tcp-queries-received-ipv6</th>\n",
       "      <th>dns-udp-responses-sent-ipv4</th>\n",
       "      <th>dns-udp-responses-sent-ipv6</th>\n",
       "      <th>dns-tcp-responses-sent-ipv4</th>\n",
       "      <th>dns-tcp-responses-sent-ipv6</th>\n",
       "    </tr>\n",
       "  </thead>\n",
       "  <tbody>\n",
       "    <tr>\n",
       "      <th>0</th>\n",
       "      <td>a.root-servers.net</td>\n",
       "      <td>2019-01-09T00:00:00Z</td>\n",
       "      <td>traffic-volume</td>\n",
       "      <td>4894158793</td>\n",
       "      <td>683437812</td>\n",
       "      <td>137563184</td>\n",
       "      <td>32347873</td>\n",
       "      <td>4782737110</td>\n",
       "      <td>682954325</td>\n",
       "      <td>134320198</td>\n",
       "      <td>33002374</td>\n",
       "    </tr>\n",
       "    <tr>\n",
       "      <th>0</th>\n",
       "      <td>a.root-servers.net</td>\n",
       "      <td>2019-01-10T00:00:00Z</td>\n",
       "      <td>traffic-volume</td>\n",
       "      <td>4947362022</td>\n",
       "      <td>717149297</td>\n",
       "      <td>196602353</td>\n",
       "      <td>31578197</td>\n",
       "      <td>4835961957</td>\n",
       "      <td>716616903</td>\n",
       "      <td>193331272</td>\n",
       "      <td>32427409</td>\n",
       "    </tr>\n",
       "  </tbody>\n",
       "</table>\n",
       "</div>"
      ],
      "text/plain": [
       "              service          start-period          metric  \\\n",
       "0  a.root-servers.net  2019-01-09T00:00:00Z  traffic-volume   \n",
       "0  a.root-servers.net  2019-01-10T00:00:00Z  traffic-volume   \n",
       "\n",
       "   dns-udp-queries-received-ipv4  dns-udp-queries-received-ipv6  \\\n",
       "0                     4894158793                      683437812   \n",
       "0                     4947362022                      717149297   \n",
       "\n",
       "   dns-tcp-queries-received-ipv4  dns-tcp-queries-received-ipv6  \\\n",
       "0                      137563184                       32347873   \n",
       "0                      196602353                       31578197   \n",
       "\n",
       "   dns-udp-responses-sent-ipv4  dns-udp-responses-sent-ipv6  \\\n",
       "0                   4782737110                    682954325   \n",
       "0                   4835961957                    716616903   \n",
       "\n",
       "   dns-tcp-responses-sent-ipv4  dns-tcp-responses-sent-ipv6  \n",
       "0                    134320198                     33002374  \n",
       "0                    193331272                     32427409  "
      ]
     },
     "execution_count": 596,
     "metadata": {},
     "output_type": "execute_result"
    }
   ],
   "source": [
    "df_result_all.drop('end-period',axis=1,inplace=True)\n",
    "df_result_all.drop('version',axis=1,inplace=True)\n",
    "df_result_all.head(2)"
   ]
  },
  {
   "cell_type": "code",
   "execution_count": 597,
   "metadata": {},
   "outputs": [
    {
     "data": {
      "text/html": [
       "<div>\n",
       "<style scoped>\n",
       "    .dataframe tbody tr th:only-of-type {\n",
       "        vertical-align: middle;\n",
       "    }\n",
       "\n",
       "    .dataframe tbody tr th {\n",
       "        vertical-align: top;\n",
       "    }\n",
       "\n",
       "    .dataframe thead th {\n",
       "        text-align: right;\n",
       "    }\n",
       "</style>\n",
       "<table border=\"1\" class=\"dataframe\">\n",
       "  <thead>\n",
       "    <tr style=\"text-align: right;\">\n",
       "      <th></th>\n",
       "      <th>service</th>\n",
       "      <th>start-period</th>\n",
       "      <th>metric</th>\n",
       "      <th>dns-udp-queries-received-ipv4</th>\n",
       "      <th>dns-udp-queries-received-ipv6</th>\n",
       "      <th>dns-tcp-queries-received-ipv4</th>\n",
       "      <th>dns-tcp-queries-received-ipv6</th>\n",
       "      <th>dns-udp-responses-sent-ipv4</th>\n",
       "      <th>dns-udp-responses-sent-ipv6</th>\n",
       "      <th>dns-tcp-responses-sent-ipv4</th>\n",
       "      <th>dns-tcp-responses-sent-ipv6</th>\n",
       "    </tr>\n",
       "  </thead>\n",
       "  <tbody>\n",
       "    <tr>\n",
       "      <th>0</th>\n",
       "      <td>a</td>\n",
       "      <td>2019-01-09T00:00:00Z</td>\n",
       "      <td>traffic-volume</td>\n",
       "      <td>4894158793</td>\n",
       "      <td>683437812</td>\n",
       "      <td>137563184</td>\n",
       "      <td>32347873</td>\n",
       "      <td>4782737110</td>\n",
       "      <td>682954325</td>\n",
       "      <td>134320198</td>\n",
       "      <td>33002374</td>\n",
       "    </tr>\n",
       "  </tbody>\n",
       "</table>\n",
       "</div>"
      ],
      "text/plain": [
       "  service          start-period          metric  \\\n",
       "0       a  2019-01-09T00:00:00Z  traffic-volume   \n",
       "\n",
       "   dns-udp-queries-received-ipv4  dns-udp-queries-received-ipv6  \\\n",
       "0                     4894158793                      683437812   \n",
       "\n",
       "   dns-tcp-queries-received-ipv4  dns-tcp-queries-received-ipv6  \\\n",
       "0                      137563184                       32347873   \n",
       "\n",
       "   dns-udp-responses-sent-ipv4  dns-udp-responses-sent-ipv6  \\\n",
       "0                   4782737110                    682954325   \n",
       "\n",
       "   dns-tcp-responses-sent-ipv4  dns-tcp-responses-sent-ipv6  \n",
       "0                    134320198                     33002374  "
      ]
     },
     "execution_count": 597,
     "metadata": {},
     "output_type": "execute_result"
    }
   ],
   "source": [
    "# convert root-server names to short \n",
    "di = { \n",
    "    'a.root-servers.net': 'a',\n",
    "    'b.root-servers.net': 'b',\n",
    "    'c.root-servers.net': 'c',\n",
    "    'd.root-servers.net': 'd',\n",
    "    'e.root-servers.net': 'e',\n",
    "    'f.root-servers.net': 'f',\n",
    "    'g.root-servers.net': 'g',\n",
    "    'h.root-servers.net': 'h',\n",
    "    'i.root-servers.net': 'i',\n",
    "    'j.root-servers.net': 'j',\n",
    "    'l.root-servers.net': 'l',\n",
    "    'm.root-servers.net': 'm',\n",
    "}\n",
    "df_result_all['service'] = df_result_all['service'].map(di)\n",
    "df_result_all.head(1)"
   ]
  },
  {
   "cell_type": "code",
   "execution_count": 430,
   "metadata": {},
   "outputs": [],
   "source": [
    "# df_result_all.to_csv(\"RSSAC002-data.csv\")"
   ]
  },
  {
   "cell_type": "code",
   "execution_count": 99,
   "metadata": {},
   "outputs": [
    {
     "data": {
      "text/html": [
       "<div>\n",
       "<style scoped>\n",
       "    .dataframe tbody tr th:only-of-type {\n",
       "        vertical-align: middle;\n",
       "    }\n",
       "\n",
       "    .dataframe tbody tr th {\n",
       "        vertical-align: top;\n",
       "    }\n",
       "\n",
       "    .dataframe thead th {\n",
       "        text-align: right;\n",
       "    }\n",
       "</style>\n",
       "<table border=\"1\" class=\"dataframe\">\n",
       "  <thead>\n",
       "    <tr style=\"text-align: right;\">\n",
       "      <th></th>\n",
       "      <th>service</th>\n",
       "      <th>start-period</th>\n",
       "      <th>metric</th>\n",
       "      <th>dns-udp-queries-received-ipv4</th>\n",
       "      <th>dns-udp-queries-received-ipv6</th>\n",
       "      <th>dns-tcp-queries-received-ipv4</th>\n",
       "      <th>dns-tcp-queries-received-ipv6</th>\n",
       "      <th>dns-udp-responses-sent-ipv4</th>\n",
       "      <th>dns-udp-responses-sent-ipv6</th>\n",
       "      <th>dns-tcp-responses-sent-ipv4</th>\n",
       "      <th>dns-tcp-responses-sent-ipv6</th>\n",
       "    </tr>\n",
       "  </thead>\n",
       "  <tbody>\n",
       "    <tr>\n",
       "      <th>0</th>\n",
       "      <td>a</td>\n",
       "      <td>2019-01-09T00:00:00Z</td>\n",
       "      <td>traffic-volume</td>\n",
       "      <td>4894158793</td>\n",
       "      <td>683437812</td>\n",
       "      <td>137563184</td>\n",
       "      <td>32347873</td>\n",
       "      <td>4782737110</td>\n",
       "      <td>682954325</td>\n",
       "      <td>134320198</td>\n",
       "      <td>33002374</td>\n",
       "    </tr>\n",
       "  </tbody>\n",
       "</table>\n",
       "</div>"
      ],
      "text/plain": [
       "  service          start-period          metric  \\\n",
       "0       a  2019-01-09T00:00:00Z  traffic-volume   \n",
       "\n",
       "   dns-udp-queries-received-ipv4  dns-udp-queries-received-ipv6  \\\n",
       "0                     4894158793                      683437812   \n",
       "\n",
       "   dns-tcp-queries-received-ipv4  dns-tcp-queries-received-ipv6  \\\n",
       "0                      137563184                       32347873   \n",
       "\n",
       "   dns-udp-responses-sent-ipv4  dns-udp-responses-sent-ipv6  \\\n",
       "0                   4782737110                    682954325   \n",
       "\n",
       "   dns-tcp-responses-sent-ipv4  dns-tcp-responses-sent-ipv6  \n",
       "0                    134320198                     33002374  "
      ]
     },
     "execution_count": 99,
     "metadata": {},
     "output_type": "execute_result"
    }
   ],
   "source": [
    "#df_result_all = pd.read_csv(\"RSSAC002-data.csv\")\n",
    "#df_result_all.drop(\"Unnamed: 0\",axis=1,inplace=True)\n",
    "df_result_all.head(1)"
   ]
  },
  {
   "cell_type": "code",
   "execution_count": 599,
   "metadata": {},
   "outputs": [
    {
     "data": {
      "image/png": "[encoded data removed]",
      "text/plain": [
       "<matplotlib.figure.Figure at 0x12b149cf8>"
      ]
     },
     "metadata": {},
     "output_type": "display_data"
    }
   ],
   "source": [
    "import matplotlib.pyplot as plt\n",
    "plt.style.use('default')\n",
    "from matplotlib import ticker\n",
    "%matplotlib inline\n",
    "\n",
    "fig = plt.figure(figsize=(8, 4))\n",
    "ax = plt.subplot2grid((1,1), (0,0))\n",
    "\n",
    "df_result_all.groupby(['service'])[['dns-udp-queries-received-ipv4','dns-tcp-queries-received-ipv4']].sum().plot(\n",
    "    kind=\"bar\",\n",
    "    ax= ax,\n",
    "    stacked=True)\n",
    "\n",
    "plt.legend(loc='center left', bbox_to_anchor=(1.0, 0.5));\n",
    "xlabels = ax.get_xticklabels()\n",
    "ax.set_xticklabels(xlabels,rotation=0);\n",
    "ax.yaxis.grid(color='grey', linestyle='dotted', linewidth=0.5)\n",
    "import matplotlib.pyplot as plt\n",
    "plt.ticklabel_format(style='plain', axis='y');\n",
    "ax.set_yticklabels(['{:1}B'.format(int(x/1000000000)) for x in ax.get_yticks().tolist()]);\n",
    "ax.set_ylabel('# queries');\n",
    "ax.set_xlabel('# root-server');\n",
    "ax.set_title(\"RSSAC002 - IPv4 - from {} to {}\".format(initial,final));  "
   ]
  },
  {
   "cell_type": "code",
   "execution_count": 601,
   "metadata": {},
   "outputs": [
    {
     "data": {
      "image/png": "[encoded data removed]",
      "text/plain": [
       "<matplotlib.figure.Figure at 0x1225bef28>"
      ]
     },
     "metadata": {},
     "output_type": "display_data"
    }
   ],
   "source": [
    "import matplotlib.pyplot as plt\n",
    "plt.style.use('default')\n",
    "from matplotlib import ticker\n",
    "%matplotlib inline\n",
    "\n",
    "fig = plt.figure(figsize=(8, 4))\n",
    "ax = plt.subplot2grid((1,1), (0,0))\n",
    "\n",
    "df_result_all.groupby('service')[['dns-udp-queries-received-ipv6','dns-tcp-queries-received-ipv6']].sum().plot(\n",
    "    kind=\"bar\",\n",
    "    ax= ax,\n",
    "    stacked=True)\n",
    "\n",
    "plt.legend(loc='center left', bbox_to_anchor=(1.0, 0.5));\n",
    "xlabels = ax.get_xticklabels()\n",
    "ax.set_xticklabels(xlabels,rotation=0);\n",
    "ax.yaxis.grid(color='grey', linestyle='dotted', linewidth=0.5)\n",
    "import matplotlib.pyplot as plt\n",
    "plt.ticklabel_format(style='plain', axis='y');\n",
    "ax.set_yticklabels(['{:1}B'.format(int(x/1000000000)) for x in ax.get_yticks().tolist()]);\n",
    "ax.set_ylabel('# queries');\n",
    "ax.set_xlabel('# root-server');\n",
    "ax.set_title(\"RSSAC002 - IPv6 - from {} to {}\".format(initial,final));  "
   ]
  },
  {
   "cell_type": "code",
   "execution_count": 566,
   "metadata": {},
   "outputs": [
    {
     "name": "stdout",
     "output_type": "stream",
     "text": [
      "47395143307 &33902031628 &47721532064 &65860831963 &79506416758 &101503031889 &22150472424 &61545253618 &64325896667 &80745843699 &36759660094 \\\\\n"
     ]
    }
   ],
   "source": [
    "# total ipv4 + ipv6\n",
    "data = df_result_all.groupby('service')[['dns-udp-queries-received-ipv6','dns-udp-queries-received-ipv4','dns-tcp-queries-received-ipv6','dns-tcp-queries-received-ipv4']].sum()\n",
    "lst = data.sum(axis=1).div(1).apply(lambda x: '%.f' % x).to_list()\n",
    "print (\"{} \\\\\\\\\".format(\" &\".join(lst)))"
   ]
  },
  {
   "cell_type": "code",
   "execution_count": 567,
   "metadata": {},
   "outputs": [
    {
     "name": "stdout",
     "output_type": "stream",
     "text": [
      "41289688598 &29909107784 &39004878123 &52422934011 &64953407379 &85269163262 &18030267276 &51694068213 &56639926786 &66740328011 &31142064032 \\\\\n"
     ]
    }
   ],
   "source": [
    "# total ipv4\n",
    "data = df_result_all.groupby('service')[['dns-udp-queries-received-ipv4','dns-tcp-queries-received-ipv4']].sum()\n",
    "lst = data.sum(axis=1).div(1).apply(lambda x: '%.f' % x).to_list()\n",
    "print (\"{} \\\\\\\\\".format(\" &\".join(lst)))"
   ]
  },
  {
   "cell_type": "code",
   "execution_count": 568,
   "metadata": {},
   "outputs": [
    {
     "name": "stdout",
     "output_type": "stream",
     "text": [
      "39843254342 &28609583275 &37758700250 &50473594048 &63549880138 &82200921747 &17681533050 &50532640275 &53136103502 &64651907902 &29351816799 \\\\\n"
     ]
    }
   ],
   "source": [
    "# udp ipv4\n",
    "data = df_result_all.groupby('service')['dns-udp-queries-received-ipv4'].sum()\n",
    "lst = data.div(1).apply(lambda x: '%.f' % x).to_list()\n",
    "print (\"{} \\\\\\\\\".format(\" &\".join(lst)))"
   ]
  },
  {
   "cell_type": "code",
   "execution_count": 569,
   "metadata": {},
   "outputs": [
    {
     "name": "stdout",
     "output_type": "stream",
     "text": [
      "1446434256 &1299524509 &1246177873 &1949339963 &1403527241 &3068241515 &348734226 &1161427938 &3503823284 &2088420109 &1790247233 \\\\\n"
     ]
    }
   ],
   "source": [
    "# tcp ipv4\n",
    "data = df_result_all.groupby('service')['dns-tcp-queries-received-ipv4'].sum()\n",
    "lst = data.div(1).apply(lambda x: '%.f' % x).to_list()\n",
    "print (\"{} \\\\\\\\\".format(\" &\".join(lst)))"
   ]
  },
  {
   "cell_type": "code",
   "execution_count": 570,
   "metadata": {},
   "outputs": [
    {
     "name": "stdout",
     "output_type": "stream",
     "text": [
      "6105454709 &3992923844 &8716653941 &13437897952 &14553009379 &16233868627 &4120205148 &9851185405 &7685969881 &14005515688 &5617596062 \\\\\n"
     ]
    }
   ],
   "source": [
    "# total ipv6\n",
    "data = df_result_all.groupby('service')[['dns-udp-queries-received-ipv6','dns-tcp-queries-received-ipv6']].sum()\n",
    "lst = data.sum(axis=1).div(1).apply(lambda x: '%.f' % x).to_list()\n",
    "print (\"{} \\\\\\\\\".format(\" &\".join(lst)))"
   ]
  },
  {
   "cell_type": "code",
   "execution_count": 571,
   "metadata": {},
   "outputs": [
    {
     "name": "stdout",
     "output_type": "stream",
     "text": [
      "5835664584 &3816511370 &8492023500 &12594758419 &14388142734 &15759873522 &4001975769 &9552674718 &7055086698 &13759649821 &5247618969 \\\\\n"
     ]
    }
   ],
   "source": [
    "# udp ipv6\n",
    "data = df_result_all.groupby('service')['dns-udp-queries-received-ipv6'].sum()\n",
    "lst = data.div(1).apply(lambda x: '%.f' % x).to_list()\n",
    "print (\"{} \\\\\\\\\".format(\" &\".join(lst)))"
   ]
  },
  {
   "cell_type": "code",
   "execution_count": 572,
   "metadata": {},
   "outputs": [
    {
     "name": "stdout",
     "output_type": "stream",
     "text": [
      "269790125 &176412474 &224630441 &843139533 &164866645 &473995105 &118229379 &298510687 &630883183 &245865867 &369977093 \\\\\n"
     ]
    }
   ],
   "source": [
    "# tcp ipv6\n",
    "data = df_result_all.groupby('service')['dns-tcp-queries-received-ipv6'].sum()\n",
    "lst = data.div(1).apply(lambda x: '%.f' % x).to_list()\n",
    "print (\"{} \\\\\\\\\".format(\" &\".join(lst)))"
   ]
  },
  {
   "cell_type": "code",
   "execution_count": null,
   "metadata": {},
   "outputs": [],
   "source": []
  }
 ],
 "metadata": {
  "kernelspec": {
   "display_name": "Python 3",
   "language": "python",
   "name": "python3"
  },
  "language_info": {
   "codemirror_mode": {
    "name": "ipython",
    "version": 3
   },
   "file_extension": ".py",
   "mimetype": "text/x-python",
   "name": "python",
   "nbconvert_exporter": "python",
   "pygments_lexer": "ipython3",
   "version": "3.6.4"
  }
 },
 "nbformat": 4,
 "nbformat_minor": 2
}
